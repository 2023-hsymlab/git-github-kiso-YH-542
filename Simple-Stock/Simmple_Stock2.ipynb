{
  "cells": [
    {
      "attachments": {},
      "cell_type": "markdown",
      "metadata": {
        "colab_type": "text",
        "id": "view-in-github"
      },
      "source": [
        "<a href=\"https://colab.research.google.com/github/hsym-uec/myWeb_github/blob/main/Simmple_Stock.ipynb\" target=\"_parent\"><img src=\"https://colab.research.google.com/assets/colab-badge.svg\" alt=\"Open In Colab\"/></a>"
      ]
    },
    {
      "cell_type": "code",
      "execution_count": null,
      "metadata": {},
      "outputs": [],
      "source": [
        "from pandas_datareader import data\n",
        "import datetime as dt\n",
        "import numpy as np\n",
        "import pandas as pd\n",
        "import time\n",
        "import matplotlib.pyplot as plt\n",
        "import matplotlib.style as style\n",
        "\n"
      ]
    },
    {
      "cell_type": "code",
      "execution_count": null,
      "metadata": {},
      "outputs": [],
      "source": []
    },
    {
      "cell_type": "code",
      "execution_count": 4,
      "metadata": {},
      "outputs": [
        {
          "name": "stdout",
          "output_type": "stream",
          "text": [
            "            NTT_Data  SoftBank\n",
            "2023-05-25   1989.00   5065.00\n",
            "2023-05-24   2017.00   5058.00\n",
            "2023-05-23   2022.00   5180.00\n",
            "2023-05-22   1983.00   5218.00\n",
            "2023-05-19   1957.00   5179.00\n",
            "...              ...       ...\n",
            "2022-06-03   2028.48   5393.86\n",
            "2022-06-02   1985.72   5278.38\n",
            "2022-06-01   2018.53   5276.39\n",
            "2022-05-31   2012.57   5355.04\n",
            "2022-05-30   2025.49   5334.13\n",
            "\n",
            "[244 rows x 2 columns]\n"
          ]
        }
      ],
      "source": [
        "from pandas_datareader import data\n",
        "import datetime as dt\n",
        "import numpy as np\n",
        "import pandas as pd\n",
        "import time\n",
        "import matplotlib.pyplot as plt\n",
        "import matplotlib.style as style\n",
        "# import mplfinance as mpf\n",
        "\n",
        "#日付取得\n",
        "end_date = dt.date.today()\n",
        "start_date = end_date + dt.timedelta(weeks=-52)\n",
        "\n",
        "code = ['9613.JP','9984.JP'] #ntt_data, softbank\n",
        "name = ['NTT_Data','SoftBank']\n",
        "# df_ntt = data.DataReader(code, 'stooq', start, end)\n",
        "\n",
        "#買った時の１株あたりの単価\n",
        "price = [0,0]\n",
        "#保有株数\n",
        "stock = [0,0]\n",
        "\n",
        "#取得価格＝保有数量x取得単価\n",
        "price_buy1 = price[0] * stock[0]\n",
        "price_buy2 = price[1] * stock[1]\n",
        "price_buy_sum = price_buy1 + price_buy2 #合計\n",
        "\n",
        "#各株銘柄取得＆終値取得する関数\n",
        "def get_kb_Close(code, start_date, end_date):\n",
        "    df = data.DataReader(code,'stooq', start_date, end_date)\n",
        "    kb_Close = df['Close']\n",
        "    return kb_Close\n",
        "\n",
        "DF = pd.DataFrame()\n",
        "\n",
        "for i in code:\n",
        "    DF = pd.concat([DF, get_kb_Close(i, start_date, end_date)], axis=1)\n",
        "DF.columns = name\n",
        "\n",
        "DF.index = pd.to_datetime(DF.index) #日付データに変換\n",
        "print(DF)\n",
        "\n",
        "\n"
      ]
    },
    {
      "cell_type": "code",
      "execution_count": 34,
      "metadata": {},
      "outputs": [],
      "source": [
        "import mysql.connector\n",
        "from mysql.connector import Error\n",
        "import pandas as pd\n",
        "from pandas_datareader import data\n",
        "import datetime as dt\n",
        "import numpy as np\n",
        "import time\n",
        "import matplotlib.pyplot as plt\n",
        "import matplotlib.style as style\n",
        "\n",
        "#各株銘柄取得＆最新(前日)の終値取得する関数\n",
        "def get_kb_Close(code):\n",
        "    end_date = dt.date.today()\n",
        "    start_date = end_date + dt.timedelta(days=-3)\n",
        "    stock_code = str(code) + '.JP'\n",
        "    df = data.DataReader(stock_code,'stooq', start_date, end_date)\n",
        "    kb_Close = df['Close']\n",
        "    return kb_Close[0]\n",
        "\n",
        "#get_kb_Close(9613)"
      ]
    },
    {
      "cell_type": "code",
      "execution_count": 81,
      "metadata": {},
      "outputs": [
        {
          "data": {
            "text/plain": [
              "2001"
            ]
          },
          "execution_count": 81,
          "metadata": {},
          "output_type": "execute_result"
        }
      ],
      "source": [
        "get_kb_Close(9613)"
      ]
    },
    {
      "cell_type": "code",
      "execution_count": 36,
      "metadata": {},
      "outputs": [],
      "source": [
        "def create_server_connection(host_name, user_name, password):\n",
        "    connection = None\n",
        "    \n",
        "    try:\n",
        "        connection = mysql.connector.connect(\n",
        "            host = host_name,# ホスト名(IPアドレス）\n",
        "            user = user_name,\n",
        "            password = password\n",
        "\t\t)\n",
        "        print(\"MySQL Database connection success\")\n",
        "    except Error as err:\n",
        "        print(f\"Error:'{err}\")\n",
        "    return\tconnection"
      ]
    },
    {
      "cell_type": "code",
      "execution_count": 66,
      "metadata": {},
      "outputs": [
        {
          "data": {
            "text/plain": [
              "1982"
            ]
          },
          "execution_count": 66,
          "metadata": {},
          "output_type": "execute_result"
        }
      ],
      "source": [
        "#買った時の価格(1株)を取得する関数\n",
        "def buy_kb(code, buy_days):\n",
        "    #表記：'%year-%month-%day\n",
        "    startdate = buy_days\n",
        "    enddate = buy_days\n",
        "    stock_code = str(code) + '.JP'\n",
        "    df = data.DataReader(stock_code,'stooq', startdate, enddate)\n",
        "    if df.empty:\n",
        "        return None\n",
        "    buy_kb_Close = df['Close']\n",
        "    return buy_kb_Close[0]\n",
        "\n",
        "buy_kb(9613,'2023-05-26')"
      ]
    },
    {
      "cell_type": "code",
      "execution_count": 38,
      "metadata": {},
      "outputs": [],
      "source": [
        "#取引報告計算(買った場合)\n",
        "def cal_kb(code, code_name, purchase_num, buy_days):\n",
        "    connection = None\n",
        "    passwordy = '507560yosshi'\n",
        "    \n",
        "    price = float(buy_kb(code, buy_days)) #買った時の一株あたりの単価\n",
        "    print(price)\n",
        "    sum_price = float(price * purchase_num)\n",
        "    print(sum_price)\n",
        "    info = 'buy' #売買の判断\n",
        "\n",
        "    try:\n",
        "        connection = mysql.connector.connect(\n",
        "            host = 'localhost',\n",
        "            user = 'yosshy',\n",
        "            password = passwordy,\n",
        "            database = 'stocks_situation'\n",
        "        )\n",
        "\n",
        "        cursor = connection.cursor()\n",
        "\n",
        "        sql = ('''\n",
        "        insert into transactions\n",
        "            (stock_code, company_name, trade_situation, trade_day, amount, trade_price, sum_trade_price) \n",
        "            values (%s, %s, %s, %s, %s, %s, %s)\n",
        "        ''')\n",
        "\n",
        "        val = [\n",
        "            (code, code_name, info, buy_days, purchase_num, price, sum_price)\n",
        "        ]\n",
        "        print(val)\n",
        "\n",
        "        cursor.executemany(sql, val)\n",
        "        connection.commit()\n",
        "        \n",
        "        print(f\"MySQL INSERT success\")\n",
        "\n",
        "        cursor.close()\n",
        "    except Error as err:\n",
        "        print(f\"Error:' {err}\")\n",
        "    \n",
        "    finally:\n",
        "        if connection is not None and connection.is_connected():\n",
        "            connection.close()\n",
        "\n",
        "# cal_kb(9613, 'NTT_Data', 100, '2023-05-25')\n",
        "\n",
        "\n",
        "\t"
      ]
    },
    {
      "cell_type": "code",
      "execution_count": 6,
      "metadata": {},
      "outputs": [
        {
          "name": "stdout",
          "output_type": "stream",
          "text": [
            "13720.0\n",
            "1372000.0\n",
            "MySQL INSERT success\n"
          ]
        }
      ],
      "source": [
        "cal_kb(6758, 'Sony', 100, '2023-05-18')"
      ]
    },
    {
      "cell_type": "code",
      "execution_count": 40,
      "metadata": {},
      "outputs": [
        {
          "name": "stdout",
          "output_type": "stream",
          "text": [
            "5909.0\n",
            "590900.0\n",
            "[(7974, 'Nintendo', 'buy', '2023-05-29', 100, 5909.0, 590900.0)]\n",
            "MySQL INSERT success\n"
          ]
        }
      ],
      "source": [
        "cal_kb(7974, 'Nintendo', 100, '2023-05-29')"
      ]
    },
    {
      "cell_type": "code",
      "execution_count": 82,
      "metadata": {},
      "outputs": [],
      "source": [
        "#保有株式の状況\n",
        "def now_kb():\n",
        "    connection = None\n",
        "    passwordy = '507560yosshi'\n",
        "\n",
        "    count = 0\n",
        "    code_list = []\n",
        "    company_list = []\n",
        "    amount_list = []\n",
        "\n",
        "\n",
        "    try:\n",
        "        connection = mysql.connector.connect(\n",
        "            host = 'localhost',\n",
        "            user = 'yosshy',\n",
        "            password = passwordy,\n",
        "            database = 'stocks_situation'\n",
        "        )\n",
        "\n",
        "        cursor = connection.cursor(dictionary=True)\n",
        "\n",
        "        #trade_situationの判定をしない場合(仮)\n",
        "        get_sql = ('''\n",
        "            select id, stock_code, company_name, amount from transactions;\n",
        "        ''')\n",
        "\n",
        "        insert_sql = ('''\n",
        "            insert into now_stocks\n",
        "            (stock_code, company_name, now_price, amount, market_price, now_date)\n",
        "            values (%s, %s, %s, %s, %s, %s)\n",
        "        ''')\n",
        "\n",
        "        cursor.execute(get_sql)\n",
        "        \n",
        "        for fetched_line in cursor.fetchall():\n",
        "            id = fetched_line['id']\n",
        "            # print(id)\n",
        "            stock_code = fetched_line['stock_code']\n",
        "            company_name = fetched_line['company_name']\n",
        "            amount = fetched_line['amount']\n",
        "            #保有株式のコードのリスト\n",
        "            code_list.insert((id-1), stock_code)\n",
        "            #保有株式の名前のリスト\n",
        "            company_list.insert((id-1), company_name)\n",
        "            #保有株式の保有数のリスト\n",
        "            amount_list.insert((id-1), amount)\n",
        "            count += 1\n",
        "\n",
        "        # print(code_list)\n",
        "        for i in range(count):\n",
        "            code = int(code_list[i])\n",
        "            code_name = company_list[i]\n",
        "            amounts = int(amount_list[i])\n",
        "            if code is None or amounts is None:\n",
        "                continue\n",
        "            now_price = float(get_kb_Close(code))\n",
        "            # now_price = float(buy_kb(code, '2023-05-26'))\n",
        "            print(now_price)\n",
        "            market_price = float(amounts * now_price)\n",
        "            # now_date = dt.date.today() + dt.timedelta(days=-5)\n",
        "            now_date = dt.date.today() + dt.timedelta(days=-1)\n",
        "            val = [(code, code_name, now_price, amounts, market_price, now_date)]\n",
        "            print(f\"{i+1}: MySQL INSERT success\")\n",
        "            print(val)\n",
        "            cursor.executemany(insert_sql, val)\n",
        "            connection.commit()\n",
        "            \n",
        "\n",
        "        cursor.close()\n",
        "\n",
        "    except Error as err:\n",
        "        print(f\"Error:' {err}\")\n",
        "    \n",
        "    finally:\n",
        "        if connection is not None and connection.is_connected():\n",
        "            connection.close()"
      ]
    },
    {
      "cell_type": "code",
      "execution_count": 83,
      "metadata": {},
      "outputs": [
        {
          "name": "stdout",
          "output_type": "stream",
          "text": [
            "2001.0\n",
            "1: MySQL INSERT success\n",
            "[(9613, 'NTT_Data', 2001.0, 100, 200100.0, datetime.date(2023, 5, 30))]\n",
            "13275.0\n",
            "2: MySQL INSERT success\n",
            "[(6758, 'Sony', 13275.0, 100, 1327500.0, datetime.date(2023, 5, 30))]\n",
            "5909.0\n",
            "3: MySQL INSERT success\n",
            "[(7974, 'Nintendo', 5909.0, 100, 590900.0, datetime.date(2023, 5, 30))]\n"
          ]
        }
      ],
      "source": [
        "now_kb()"
      ]
    },
    {
      "cell_type": "code",
      "execution_count": 80,
      "metadata": {},
      "outputs": [
        {
          "name": "stdout",
          "output_type": "stream",
          "text": [
            "2023-05-31\n"
          ]
        }
      ],
      "source": [
        "now_date = dt.date.today()\n",
        "print(now_date)"
      ]
    },
    {
      "cell_type": "code",
      "execution_count": 75,
      "metadata": {},
      "outputs": [
        {
          "name": "stdout",
          "output_type": "stream",
          "text": [
            "2001.0\n"
          ]
        }
      ],
      "source": [
        "now_price = float(get_kb_Close(9613))\n",
        "print(now_price)"
      ]
    }
  ],
  "metadata": {
    "colab": {
      "authorship_tag": "ABX9TyPjQvpzdTrQo21gWnU3EF3c",
      "include_colab_link": true,
      "provenance": []
    },
    "kernelspec": {
      "display_name": "Python 3",
      "language": "python",
      "name": "python3"
    },
    "language_info": {
      "codemirror_mode": {
        "name": "ipython",
        "version": 3
      },
      "file_extension": ".py",
      "mimetype": "text/x-python",
      "name": "python",
      "nbconvert_exporter": "python",
      "pygments_lexer": "ipython3",
      "version": "3.10.6"
    },
    "vscode": {
      "interpreter": {
        "hash": "45235355092c530fbe1e7837bdf91ad4471ac5ae924a0e2a533ef74281c812a3"
      }
    }
  },
  "nbformat": 4,
  "nbformat_minor": 0
}
